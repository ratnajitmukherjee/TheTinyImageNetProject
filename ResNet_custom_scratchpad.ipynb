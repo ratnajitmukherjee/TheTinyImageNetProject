{
 "cells": [
  {
   "cell_type": "markdown",
   "metadata": {},
   "source": [
    "# Scratch pad to write ResNext network architecture for TinyImageNet project"
   ]
  },
  {
   "cell_type": "markdown",
   "metadata": {},
   "source": [
    "### various imports"
   ]
  },
  {
   "cell_type": "code",
   "execution_count": 1,
   "metadata": {},
   "outputs": [],
   "source": [
    "import os\n",
    "os.environ['CUDA_VISIBLE_DEVICES'] = '-1'"
   ]
  },
  {
   "cell_type": "code",
   "execution_count": 2,
   "metadata": {},
   "outputs": [
    {
     "name": "stderr",
     "output_type": "stream",
     "text": [
      "Using TensorFlow backend.\n"
     ]
    }
   ],
   "source": [
    "from keras.layers import Input, Conv2D, BatchNormalization, MaxPooling2D, Flatten, Dense, Activation, Dropout\n",
    "from keras.layers import concatenate, AveragePooling2D, add\n",
    "from keras.layers.advanced_activations import LeakyReLU\n",
    "from keras.initializers import VarianceScaling\n",
    "from keras.regularizers import l2\n",
    "from keras.models import Model\n",
    "from keras import backend as K\n",
    "from keras.utils.vis_utils import model_to_dot\n",
    "from keras.utils.vis_utils import plot_model\n",
    "from IPython.display import SVG"
   ]
  },
  {
   "cell_type": "code",
   "execution_count": 3,
   "metadata": {},
   "outputs": [],
   "source": [
    "def bn_conv2d(x, filter_size, kernel_size, padding_type, activation_type, strides=(1, 1)):\n",
    "    \"\"\"\n",
    "    Batch Normalization and pre-activation followed by a convolution layer\n",
    "    \"\"\"    \n",
    "    weight = 1e-4\n",
    "    # Batch norm\n",
    "    x = BatchNormalization(axis=-1, epsilon=1e-5, momentum=0.9)(x)\n",
    "    # Pre-activation\n",
    "    if activation_type == 'LeakyRelu':\n",
    "        x = LeakyReLU(alpha=0.3)(x)\n",
    "    else:\n",
    "        x = Activation(activation_type)(x)\n",
    "        \n",
    "    # Convolution 2D\n",
    "    x = Conv2D(filters=filter_size, kernel_size=kernel_size, strides=strides, kernel_regularizer=l2(weight),               \n",
    "               kernel_initializer=\"he_normal\", padding=padding_type, activation='linear', use_bias=False)(x)            \n",
    "    return x"
   ]
  },
  {
   "cell_type": "code",
   "execution_count": 4,
   "metadata": {},
   "outputs": [],
   "source": [
    "def residual_module(x, filter_size, stride_size, reduce=False):\n",
    "    shortcut = x\n",
    "    # First bn_conv2d block\n",
    "    conv1 = bn_conv2d(x, filter_size=int(filter_size * 0.25), kernel_size=1, padding_type='same', \n",
    "                      activation_type='linear')\n",
    "    # Second bn_conv2d block (this block also reduces spatial resolution)\n",
    "    conv2 = bn_conv2d(conv1, filter_size=int(filter_size * 0.25), kernel_size=3, padding_type='same', \n",
    "                      activation_type='linear', strides=stride_size)\n",
    "    # Third \n",
    "    conv3 = bn_conv2d(conv2, filter_size=filter_size, kernel_size=1, padding_type='same', activation_type='linear')\n",
    "    \n",
    "    if reduce is True:\n",
    "        shortcut = bn_conv2d(x, filter_size, kernel_size=1, padding_type='same', activation_type='linear', strides=stride_size)        \n",
    "    \n",
    "    x = add([conv3, shortcut])\n",
    "    \n",
    "    return x            "
   ]
  },
  {
   "cell_type": "code",
   "execution_count": 5,
   "metadata": {},
   "outputs": [],
   "source": [
    "def resnet_build(input_shape, num_classes, stage_list, filter_list):\n",
    "    input_layer = Input(input_shape)\n",
    "    # First convolution block to capture larger maps\n",
    "    x = Conv2D(filters=filter_list[0], kernel_size=(5, 5), kernel_initializer=\"he_normal\", \n",
    "               kernel_regularizer=l2(1e-4), padding='same', activation='linear')(input_layer)\n",
    "    x = LeakyReLU(alpha=0.3)(x)\n",
    "    x = BatchNormalization(axis=-1, epsilon=1e-5, momentum=0.9)(x)\n",
    "    x = MaxPooling2D(pool_size=(3, 3), strides=(2, 2), padding='same')(x)\n",
    "    \n",
    "    # loop over the number of stages and the number of filter to stack the residual modules\n",
    "    \n",
    "    for i in range(0, len(stage_list)):\n",
    "        if (i == 0):\n",
    "            stride_size = (1, 1)\n",
    "        else:\n",
    "            stride_size = (2, 2)\n",
    "        \n",
    "        x = residual_module(x, filter_list[i+1], stride_size=stride_size, reduce=True)\n",
    "        \n",
    "        for j in range(0, stage_list[i] - 1):\n",
    "            x = residual_module(x, filter_list[i+1], stride_size=(1, 1))\n",
    "    \n",
    "    # head of the network\n",
    "    x = BatchNormalization(axis=-1, epsilon=1e-5, momentum=0.9)(x)\n",
    "    x = LeakyReLU(alpha=0.3)(x)\n",
    "    x = AveragePooling2D(pool_size=(8, 8))(x)\n",
    "    x = Flatten()(x)\n",
    "    x = Dense(units=num_classes, activation='softmax')(x)\n",
    "    \n",
    "    model = Model(inputs=input_layer, outputs=x)\n",
    "    return model"
   ]
  },
  {
   "cell_type": "code",
   "execution_count": 6,
   "metadata": {},
   "outputs": [],
   "source": [
    "input_shape = (64, 64, 3)\n",
    "output_classes = 200\n",
    "stage_list = (4, 6, 6)\n",
    "filter_list = (64, 128, 256, 512)\n",
    "model = resnet_build(input_shape, output_classes, stage_list=stage_list, filter_list=filter_list)"
   ]
  },
  {
   "cell_type": "code",
   "execution_count": 81,
   "metadata": {},
   "outputs": [],
   "source": [
    "gt_label = 'horse'"
   ]
  },
  {
   "cell_type": "code",
   "execution_count": 86,
   "metadata": {},
   "outputs": [],
   "source": [
    "pred_label = ['horse', 'dog', 'plant', 'machine']"
   ]
  },
  {
   "cell_type": "code",
   "execution_count": 87,
   "metadata": {},
   "outputs": [
    {
     "name": "stdout",
     "output_type": "stream",
     "text": [
      "rank 5 accuracy\n",
      "rank 1 accuracy\n"
     ]
    }
   ],
   "source": [
    "if gt_label in pred_label[:5]:\n",
    "    print('rank 5 accuracy')\n",
    "if gt_label in pred_label[:1]:\n",
    "    print('rank 1 accuracy')"
   ]
  },
  {
   "cell_type": "code",
   "execution_count": 89,
   "metadata": {},
   "outputs": [],
   "source": [
    "from tqdm import tqdm\n",
    "from keras.models import load_model"
   ]
  },
  {
   "cell_type": "code",
   "execution_count": 91,
   "metadata": {},
   "outputs": [
    {
     "name": "stderr",
     "output_type": "stream",
     "text": [
      "\n",
      "  0%|                                                                                           | 0/78 [00:00<?, ?it/s]"
     ]
    },
    {
     "ename": "TypeError",
     "evalue": "expected str, bytes or os.PathLike object, not tqdm",
     "output_type": "error",
     "traceback": [
      "\u001b[1;31m---------------------------------------------------------------------------\u001b[0m",
      "\u001b[1;31mTypeError\u001b[0m                                 Traceback (most recent call last)",
      "\u001b[1;32m<ipython-input-91-a3972a2a83d3>\u001b[0m in \u001b[0;36m<module>\u001b[1;34m()\u001b[0m\n\u001b[1;32m----> 1\u001b[1;33m \u001b[0mmodel\u001b[0m \u001b[1;33m=\u001b[0m \u001b[0mload_model\u001b[0m\u001b[1;33m(\u001b[0m\u001b[0mtqdm\u001b[0m\u001b[1;33m(\u001b[0m\u001b[1;34m'C:/Users/PC/Downloads/tiny-imagenet-200/TinyImageNet_InceptionV4_Acc-0.46.hdf5'\u001b[0m\u001b[1;33m)\u001b[0m\u001b[1;33m)\u001b[0m\u001b[1;33m\u001b[0m\u001b[0m\n\u001b[0m",
      "\u001b[1;32mc:\\program files\\python36\\lib\\site-packages\\keras\\models.py\u001b[0m in \u001b[0;36mload_model\u001b[1;34m(filepath, custom_objects, compile)\u001b[0m\n\u001b[0;32m    235\u001b[0m             \u001b[1;32mreturn\u001b[0m \u001b[0mcustom_objects\u001b[0m\u001b[1;33m[\u001b[0m\u001b[0mobj\u001b[0m\u001b[1;33m]\u001b[0m\u001b[1;33m\u001b[0m\u001b[0m\n\u001b[0;32m    236\u001b[0m         \u001b[1;32mreturn\u001b[0m \u001b[0mobj\u001b[0m\u001b[1;33m\u001b[0m\u001b[0m\n\u001b[1;32m--> 237\u001b[1;33m     \u001b[1;32mwith\u001b[0m \u001b[0mh5py\u001b[0m\u001b[1;33m.\u001b[0m\u001b[0mFile\u001b[0m\u001b[1;33m(\u001b[0m\u001b[0mfilepath\u001b[0m\u001b[1;33m,\u001b[0m \u001b[0mmode\u001b[0m\u001b[1;33m=\u001b[0m\u001b[1;34m'r'\u001b[0m\u001b[1;33m)\u001b[0m \u001b[1;32mas\u001b[0m \u001b[0mf\u001b[0m\u001b[1;33m:\u001b[0m\u001b[1;33m\u001b[0m\u001b[0m\n\u001b[0m\u001b[0;32m    238\u001b[0m         \u001b[1;31m# instantiate model\u001b[0m\u001b[1;33m\u001b[0m\u001b[1;33m\u001b[0m\u001b[0m\n\u001b[0;32m    239\u001b[0m         \u001b[0mmodel_config\u001b[0m \u001b[1;33m=\u001b[0m \u001b[0mf\u001b[0m\u001b[1;33m.\u001b[0m\u001b[0mattrs\u001b[0m\u001b[1;33m.\u001b[0m\u001b[0mget\u001b[0m\u001b[1;33m(\u001b[0m\u001b[1;34m'model_config'\u001b[0m\u001b[1;33m)\u001b[0m\u001b[1;33m\u001b[0m\u001b[0m\n",
      "\u001b[1;32mc:\\program files\\python36\\lib\\site-packages\\h5py\\_hl\\files.py\u001b[0m in \u001b[0;36m__init__\u001b[1;34m(self, name, mode, driver, libver, userblock_size, swmr, **kwds)\u001b[0m\n\u001b[0;32m    307\u001b[0m                 \u001b[0mfid\u001b[0m \u001b[1;33m=\u001b[0m \u001b[0mh5i\u001b[0m\u001b[1;33m.\u001b[0m\u001b[0mget_file_id\u001b[0m\u001b[1;33m(\u001b[0m\u001b[0mname\u001b[0m\u001b[1;33m)\u001b[0m\u001b[1;33m\u001b[0m\u001b[0m\n\u001b[0;32m    308\u001b[0m         \u001b[1;32melse\u001b[0m\u001b[1;33m:\u001b[0m\u001b[1;33m\u001b[0m\u001b[0m\n\u001b[1;32m--> 309\u001b[1;33m             \u001b[0mname\u001b[0m \u001b[1;33m=\u001b[0m \u001b[0mfilename_encode\u001b[0m\u001b[1;33m(\u001b[0m\u001b[0mname\u001b[0m\u001b[1;33m)\u001b[0m\u001b[1;33m\u001b[0m\u001b[0m\n\u001b[0m\u001b[0;32m    310\u001b[0m             \u001b[1;32mwith\u001b[0m \u001b[0mphil\u001b[0m\u001b[1;33m:\u001b[0m\u001b[1;33m\u001b[0m\u001b[0m\n\u001b[0;32m    311\u001b[0m                 \u001b[0mfapl\u001b[0m \u001b[1;33m=\u001b[0m \u001b[0mmake_fapl\u001b[0m\u001b[1;33m(\u001b[0m\u001b[0mdriver\u001b[0m\u001b[1;33m,\u001b[0m \u001b[0mlibver\u001b[0m\u001b[1;33m,\u001b[0m \u001b[1;33m**\u001b[0m\u001b[0mkwds\u001b[0m\u001b[1;33m)\u001b[0m\u001b[1;33m\u001b[0m\u001b[0m\n",
      "\u001b[1;32mc:\\program files\\python36\\lib\\site-packages\\h5py\\_hl\\compat.py\u001b[0m in \u001b[0;36mfilename_encode\u001b[1;34m(filename)\u001b[0m\n\u001b[0;32m    109\u001b[0m     \u001b[0mfilenames\u001b[0m \u001b[1;32min\u001b[0m \u001b[0mh5py\u001b[0m \u001b[1;32mfor\u001b[0m \u001b[0mmore\u001b[0m \u001b[0minformation\u001b[0m\u001b[1;33m.\u001b[0m\u001b[1;33m\u001b[0m\u001b[0m\n\u001b[0;32m    110\u001b[0m     \"\"\"\n\u001b[1;32m--> 111\u001b[1;33m     \u001b[0mfilename\u001b[0m \u001b[1;33m=\u001b[0m \u001b[0mfspath\u001b[0m\u001b[1;33m(\u001b[0m\u001b[0mfilename\u001b[0m\u001b[1;33m)\u001b[0m\u001b[1;33m\u001b[0m\u001b[0m\n\u001b[0m\u001b[0;32m    112\u001b[0m     \u001b[1;32mif\u001b[0m \u001b[0msys\u001b[0m\u001b[1;33m.\u001b[0m\u001b[0mplatform\u001b[0m \u001b[1;33m==\u001b[0m \u001b[1;34m\"win32\"\u001b[0m\u001b[1;33m:\u001b[0m\u001b[1;33m\u001b[0m\u001b[0m\n\u001b[0;32m    113\u001b[0m         \u001b[1;32mif\u001b[0m \u001b[0misinstance\u001b[0m\u001b[1;33m(\u001b[0m\u001b[0mfilename\u001b[0m\u001b[1;33m,\u001b[0m \u001b[0msix\u001b[0m\u001b[1;33m.\u001b[0m\u001b[0mtext_type\u001b[0m\u001b[1;33m)\u001b[0m\u001b[1;33m:\u001b[0m\u001b[1;33m\u001b[0m\u001b[0m\n",
      "\u001b[1;31mTypeError\u001b[0m: expected str, bytes or os.PathLike object, not tqdm"
     ]
    }
   ],
   "source": [
    "model = load_model(tqdm('C:/Users/PC/Downloads/tiny-imagenet-200/TinyImageNet_InceptionV4_Acc-0.46.hdf5'))"
   ]
  },
  {
   "cell_type": "code",
   "execution_count": 92,
   "metadata": {},
   "outputs": [
    {
     "data": {
      "text/plain": [
       "0.0005"
      ]
     },
     "execution_count": 92,
     "metadata": {},
     "output_type": "execute_result"
    }
   ],
   "source": [
    "5e-4"
   ]
  },
  {
   "cell_type": "code",
   "execution_count": null,
   "metadata": {},
   "outputs": [],
   "source": []
  }
 ],
 "metadata": {
  "kernelspec": {
   "display_name": "Python 3",
   "language": "python",
   "name": "python3"
  },
  "language_info": {
   "codemirror_mode": {
    "name": "ipython",
    "version": 3
   },
   "file_extension": ".py",
   "mimetype": "text/x-python",
   "name": "python",
   "nbconvert_exporter": "python",
   "pygments_lexer": "ipython3",
   "version": "3.6.3"
  }
 },
 "nbformat": 4,
 "nbformat_minor": 2
}
